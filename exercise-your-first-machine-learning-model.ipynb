{
 "cells": [
  {
   "cell_type": "markdown",
   "id": "8d456cff",
   "metadata": {
    "papermill": {
     "duration": 0.00686,
     "end_time": "2022-06-30T09:06:27.687475",
     "exception": false,
     "start_time": "2022-06-30T09:06:27.680615",
     "status": "completed"
    },
    "tags": []
   },
   "source": [
    "**This notebook is an exercise in the [Introduction to Machine Learning](https://www.kaggle.com/learn/intro-to-machine-learning) course.  You can reference the tutorial at [this link](https://www.kaggle.com/dansbecker/your-first-machine-learning-model).**\n",
    "\n",
    "---\n"
   ]
  },
  {
   "cell_type": "markdown",
   "id": "93a4e69a",
   "metadata": {
    "papermill": {
     "duration": 0.005371,
     "end_time": "2022-06-30T09:06:27.698792",
     "exception": false,
     "start_time": "2022-06-30T09:06:27.693421",
     "status": "completed"
    },
    "tags": []
   },
   "source": [
    "## Recap\n",
    "So far, you have loaded your data and reviewed it with the following code. Run this cell to set up your coding environment where the previous step left off."
   ]
  },
  {
   "cell_type": "code",
   "execution_count": 1,
   "id": "542154ab",
   "metadata": {
    "execution": {
     "iopub.execute_input": "2022-06-30T09:06:27.712971Z",
     "iopub.status.busy": "2022-06-30T09:06:27.712265Z",
     "iopub.status.idle": "2022-06-30T09:06:29.162458Z",
     "shell.execute_reply": "2022-06-30T09:06:29.161140Z"
    },
    "papermill": {
     "duration": 1.460295,
     "end_time": "2022-06-30T09:06:29.164948",
     "exception": false,
     "start_time": "2022-06-30T09:06:27.704653",
     "status": "completed"
    },
    "tags": []
   },
   "outputs": [
    {
     "name": "stdout",
     "output_type": "stream",
     "text": [
      "Setup Complete\n"
     ]
    }
   ],
   "source": [
    "# Code you have previously used to load data\n",
    "import pandas as pd\n",
    "\n",
    "# Path of the file to read\n",
    "iowa_file_path = '../input/home-data-for-ml-course/train.csv'\n",
    "\n",
    "home_data = pd.read_csv(iowa_file_path)\n",
    "\n",
    "# Set up code checking\n",
    "from learntools.core import binder\n",
    "binder.bind(globals())\n",
    "from learntools.machine_learning.ex3 import *\n",
    "\n",
    "print(\"Setup Complete\")"
   ]
  },
  {
   "cell_type": "markdown",
   "id": "d66b9f0c",
   "metadata": {
    "papermill": {
     "duration": 0.005629,
     "end_time": "2022-06-30T09:06:29.176712",
     "exception": false,
     "start_time": "2022-06-30T09:06:29.171083",
     "status": "completed"
    },
    "tags": []
   },
   "source": [
    "# Exercises\n",
    "\n",
    "## Step 1: Specify Prediction Target\n",
    "Select the target variable, which corresponds to the sales price. Save this to a new variable called `y`. You'll need to print a list of the columns to find the name of the column you need.\n"
   ]
  },
  {
   "cell_type": "code",
   "execution_count": 2,
   "id": "f5de6372",
   "metadata": {
    "execution": {
     "iopub.execute_input": "2022-06-30T09:06:29.190420Z",
     "iopub.status.busy": "2022-06-30T09:06:29.189704Z",
     "iopub.status.idle": "2022-06-30T09:06:29.198699Z",
     "shell.execute_reply": "2022-06-30T09:06:29.197711Z"
    },
    "papermill": {
     "duration": 0.018298,
     "end_time": "2022-06-30T09:06:29.200794",
     "exception": false,
     "start_time": "2022-06-30T09:06:29.182496",
     "status": "completed"
    },
    "tags": []
   },
   "outputs": [
    {
     "data": {
      "text/plain": [
       "Index(['Id', 'MSSubClass', 'MSZoning', 'LotFrontage', 'LotArea', 'Street',\n",
       "       'Alley', 'LotShape', 'LandContour', 'Utilities', 'LotConfig',\n",
       "       'LandSlope', 'Neighborhood', 'Condition1', 'Condition2', 'BldgType',\n",
       "       'HouseStyle', 'OverallQual', 'OverallCond', 'YearBuilt', 'YearRemodAdd',\n",
       "       'RoofStyle', 'RoofMatl', 'Exterior1st', 'Exterior2nd', 'MasVnrType',\n",
       "       'MasVnrArea', 'ExterQual', 'ExterCond', 'Foundation', 'BsmtQual',\n",
       "       'BsmtCond', 'BsmtExposure', 'BsmtFinType1', 'BsmtFinSF1',\n",
       "       'BsmtFinType2', 'BsmtFinSF2', 'BsmtUnfSF', 'TotalBsmtSF', 'Heating',\n",
       "       'HeatingQC', 'CentralAir', 'Electrical', '1stFlrSF', '2ndFlrSF',\n",
       "       'LowQualFinSF', 'GrLivArea', 'BsmtFullBath', 'BsmtHalfBath', 'FullBath',\n",
       "       'HalfBath', 'BedroomAbvGr', 'KitchenAbvGr', 'KitchenQual',\n",
       "       'TotRmsAbvGrd', 'Functional', 'Fireplaces', 'FireplaceQu', 'GarageType',\n",
       "       'GarageYrBlt', 'GarageFinish', 'GarageCars', 'GarageArea', 'GarageQual',\n",
       "       'GarageCond', 'PavedDrive', 'WoodDeckSF', 'OpenPorchSF',\n",
       "       'EnclosedPorch', '3SsnPorch', 'ScreenPorch', 'PoolArea', 'PoolQC',\n",
       "       'Fence', 'MiscFeature', 'MiscVal', 'MoSold', 'YrSold', 'SaleType',\n",
       "       'SaleCondition', 'SalePrice'],\n",
       "      dtype='object')"
      ]
     },
     "execution_count": 2,
     "metadata": {},
     "output_type": "execute_result"
    }
   ],
   "source": [
    "# print the list of columns in the dataset to find the name of the prediction target\n",
    "home_data.columns"
   ]
  },
  {
   "cell_type": "code",
   "execution_count": 3,
   "id": "131b7c8e",
   "metadata": {
    "execution": {
     "iopub.execute_input": "2022-06-30T09:06:29.215141Z",
     "iopub.status.busy": "2022-06-30T09:06:29.214496Z",
     "iopub.status.idle": "2022-06-30T09:06:29.227073Z",
     "shell.execute_reply": "2022-06-30T09:06:29.226363Z"
    },
    "papermill": {
     "duration": 0.021935,
     "end_time": "2022-06-30T09:06:29.229145",
     "exception": false,
     "start_time": "2022-06-30T09:06:29.207210",
     "status": "completed"
    },
    "tags": []
   },
   "outputs": [
    {
     "data": {
      "application/javascript": [
       "parent.postMessage({\"jupyterEvent\": \"custom.exercise_interaction\", \"data\": {\"outcomeType\": 1, \"valueTowardsCompletion\": 0.25, \"interactionType\": 1, \"questionType\": 2, \"questionId\": \"1_SetTarget\", \"learnToolsVersion\": \"0.3.4\", \"failureMessage\": \"\", \"exceptionClass\": \"\", \"trace\": \"\"}}, \"*\")"
      ],
      "text/plain": [
       "<IPython.core.display.Javascript object>"
      ]
     },
     "metadata": {},
     "output_type": "display_data"
    },
    {
     "data": {
      "text/markdown": [
       "<span style=\"color:#33cc33\">Correct</span>"
      ],
      "text/plain": [
       "Correct"
      ]
     },
     "metadata": {},
     "output_type": "display_data"
    }
   ],
   "source": [
    "y = home_data['SalePrice']\n",
    "\n",
    "# Check your answer\n",
    "step_1.check()"
   ]
  },
  {
   "cell_type": "code",
   "execution_count": 4,
   "id": "450c1727",
   "metadata": {
    "execution": {
     "iopub.execute_input": "2022-06-30T09:06:29.243885Z",
     "iopub.status.busy": "2022-06-30T09:06:29.243171Z",
     "iopub.status.idle": "2022-06-30T09:06:29.247029Z",
     "shell.execute_reply": "2022-06-30T09:06:29.246111Z"
    },
    "papermill": {
     "duration": 0.013764,
     "end_time": "2022-06-30T09:06:29.249166",
     "exception": false,
     "start_time": "2022-06-30T09:06:29.235402",
     "status": "completed"
    },
    "tags": []
   },
   "outputs": [],
   "source": [
    "# The lines below will show you a hint or the solution.\n",
    "# step_1.hint() \n",
    "# step_1.solution()"
   ]
  },
  {
   "cell_type": "markdown",
   "id": "b50009e2",
   "metadata": {
    "papermill": {
     "duration": 0.005897,
     "end_time": "2022-06-30T09:06:29.261413",
     "exception": false,
     "start_time": "2022-06-30T09:06:29.255516",
     "status": "completed"
    },
    "tags": []
   },
   "source": [
    "## Step 2: Create X\n",
    "Now you will create a DataFrame called `X` holding the predictive features.\n",
    "\n",
    "Since you want only some columns from the original data, you'll first create a list with the names of the columns you want in `X`.\n",
    "\n",
    "You'll use just the following columns in the list (you can copy and paste the whole list to save some typing, though you'll still need to add quotes):\n",
    "  * LotArea\n",
    "  * YearBuilt\n",
    "  * 1stFlrSF\n",
    "  * 2ndFlrSF\n",
    "  * FullBath\n",
    "  * BedroomAbvGr\n",
    "  * TotRmsAbvGrd\n",
    "\n",
    "After you've created that list of features, use it to create the DataFrame that you'll use to fit the model."
   ]
  },
  {
   "cell_type": "code",
   "execution_count": 5,
   "id": "f75f4a7d",
   "metadata": {
    "execution": {
     "iopub.execute_input": "2022-06-30T09:06:29.275967Z",
     "iopub.status.busy": "2022-06-30T09:06:29.275389Z",
     "iopub.status.idle": "2022-06-30T09:06:29.288866Z",
     "shell.execute_reply": "2022-06-30T09:06:29.288057Z"
    },
    "papermill": {
     "duration": 0.023196,
     "end_time": "2022-06-30T09:06:29.290876",
     "exception": false,
     "start_time": "2022-06-30T09:06:29.267680",
     "status": "completed"
    },
    "tags": []
   },
   "outputs": [
    {
     "data": {
      "application/javascript": [
       "parent.postMessage({\"jupyterEvent\": \"custom.exercise_interaction\", \"data\": {\"outcomeType\": 1, \"valueTowardsCompletion\": 0.25, \"interactionType\": 1, \"questionType\": 2, \"questionId\": \"2_SelectPredictionData\", \"learnToolsVersion\": \"0.3.4\", \"failureMessage\": \"\", \"exceptionClass\": \"\", \"trace\": \"\"}}, \"*\")"
      ],
      "text/plain": [
       "<IPython.core.display.Javascript object>"
      ]
     },
     "metadata": {},
     "output_type": "display_data"
    },
    {
     "data": {
      "text/markdown": [
       "<span style=\"color:#33cc33\">Correct</span>"
      ],
      "text/plain": [
       "Correct"
      ]
     },
     "metadata": {},
     "output_type": "display_data"
    }
   ],
   "source": [
    "# Create the list of features below\n",
    "feature_names = ['LotArea','YearBuilt','1stFlrSF','2ndFlrSF','FullBath','BedroomAbvGr','TotRmsAbvGrd']\n",
    "\n",
    "# Select data corresponding to features in feature_names\n",
    "X = home_data[feature_names]\n",
    "\n",
    "# Check your answer\n",
    "step_2.check()"
   ]
  },
  {
   "cell_type": "code",
   "execution_count": 6,
   "id": "ea9249e9",
   "metadata": {
    "collapsed": true,
    "execution": {
     "iopub.execute_input": "2022-06-30T09:06:29.306413Z",
     "iopub.status.busy": "2022-06-30T09:06:29.305805Z",
     "iopub.status.idle": "2022-06-30T09:06:29.309365Z",
     "shell.execute_reply": "2022-06-30T09:06:29.308534Z"
    },
    "jupyter": {
     "outputs_hidden": true
    },
    "papermill": {
     "duration": 0.01409,
     "end_time": "2022-06-30T09:06:29.311577",
     "exception": false,
     "start_time": "2022-06-30T09:06:29.297487",
     "status": "completed"
    },
    "tags": []
   },
   "outputs": [],
   "source": [
    "# step_2.hint()\n",
    "# step_2.solution()"
   ]
  },
  {
   "cell_type": "markdown",
   "id": "0001c827",
   "metadata": {
    "papermill": {
     "duration": 0.006492,
     "end_time": "2022-06-30T09:06:29.324642",
     "exception": false,
     "start_time": "2022-06-30T09:06:29.318150",
     "status": "completed"
    },
    "tags": []
   },
   "source": [
    "## Review Data\n",
    "Before building a model, take a quick look at **X** to verify it looks sensible"
   ]
  },
  {
   "cell_type": "code",
   "execution_count": 7,
   "id": "b7dd5364",
   "metadata": {
    "execution": {
     "iopub.execute_input": "2022-06-30T09:06:29.339548Z",
     "iopub.status.busy": "2022-06-30T09:06:29.339153Z",
     "iopub.status.idle": "2022-06-30T09:06:29.374522Z",
     "shell.execute_reply": "2022-06-30T09:06:29.373695Z"
    },
    "papermill": {
     "duration": 0.046168,
     "end_time": "2022-06-30T09:06:29.377499",
     "exception": false,
     "start_time": "2022-06-30T09:06:29.331331",
     "status": "completed"
    },
    "tags": []
   },
   "outputs": [
    {
     "name": "stdout",
     "output_type": "stream",
     "text": [
      "             LotArea    YearBuilt     1stFlrSF     2ndFlrSF     FullBath  \\\n",
      "count    1460.000000  1460.000000  1460.000000  1460.000000  1460.000000   \n",
      "mean    10516.828082  1971.267808  1162.626712   346.992466     1.565068   \n",
      "std      9981.264932    30.202904   386.587738   436.528436     0.550916   \n",
      "min      1300.000000  1872.000000   334.000000     0.000000     0.000000   \n",
      "25%      7553.500000  1954.000000   882.000000     0.000000     1.000000   \n",
      "50%      9478.500000  1973.000000  1087.000000     0.000000     2.000000   \n",
      "75%     11601.500000  2000.000000  1391.250000   728.000000     2.000000   \n",
      "max    215245.000000  2010.000000  4692.000000  2065.000000     3.000000   \n",
      "\n",
      "       BedroomAbvGr  TotRmsAbvGrd  \n",
      "count   1460.000000   1460.000000  \n",
      "mean       2.866438      6.517808  \n",
      "std        0.815778      1.625393  \n",
      "min        0.000000      2.000000  \n",
      "25%        2.000000      5.000000  \n",
      "50%        3.000000      6.000000  \n",
      "75%        3.000000      7.000000  \n",
      "max        8.000000     14.000000  \n"
     ]
    }
   ],
   "source": [
    "# Review data\n",
    "# print description or statistics from X\n",
    "print(X.describe())\n",
    "\n",
    "# print the top few lines\n",
    "#print(_)"
   ]
  },
  {
   "cell_type": "markdown",
   "id": "f97026f1",
   "metadata": {
    "papermill": {
     "duration": 0.006441,
     "end_time": "2022-06-30T09:06:29.390710",
     "exception": false,
     "start_time": "2022-06-30T09:06:29.384269",
     "status": "completed"
    },
    "tags": []
   },
   "source": [
    "## Step 3: Specify and Fit Model\n",
    "Create a `DecisionTreeRegressor` and save it iowa_model. Ensure you've done the relevant import from sklearn to run this command.\n",
    "\n",
    "Then fit the model you just created using the data in `X` and `y` that you saved above."
   ]
  },
  {
   "cell_type": "code",
   "execution_count": 8,
   "id": "d99b53f7",
   "metadata": {
    "execution": {
     "iopub.execute_input": "2022-06-30T09:06:29.406092Z",
     "iopub.status.busy": "2022-06-30T09:06:29.405522Z",
     "iopub.status.idle": "2022-06-30T09:06:29.425057Z",
     "shell.execute_reply": "2022-06-30T09:06:29.424331Z"
    },
    "papermill": {
     "duration": 0.030029,
     "end_time": "2022-06-30T09:06:29.427428",
     "exception": false,
     "start_time": "2022-06-30T09:06:29.397399",
     "status": "completed"
    },
    "tags": []
   },
   "outputs": [
    {
     "data": {
      "application/javascript": [
       "parent.postMessage({\"jupyterEvent\": \"custom.exercise_interaction\", \"data\": {\"outcomeType\": 1, \"valueTowardsCompletion\": 0.25, \"interactionType\": 1, \"questionType\": 2, \"questionId\": \"3_CreateModel\", \"learnToolsVersion\": \"0.3.4\", \"failureMessage\": \"\", \"exceptionClass\": \"\", \"trace\": \"\"}}, \"*\")"
      ],
      "text/plain": [
       "<IPython.core.display.Javascript object>"
      ]
     },
     "metadata": {},
     "output_type": "display_data"
    },
    {
     "data": {
      "text/markdown": [
       "<span style=\"color:#33cc33\">Correct</span>"
      ],
      "text/plain": [
       "Correct"
      ]
     },
     "metadata": {},
     "output_type": "display_data"
    }
   ],
   "source": [
    "from sklearn.tree import DecisionTreeRegressor\n",
    "#ds=DecisionTreeRegressor(randomstate=1)\n",
    "#For model reproducibility, set a numeric value for random_state when specifying the model\n",
    "iowa_model = DecisionTreeRegressor(random_state=1)\n",
    "\n",
    "# Fit the model\n",
    "iowa_model.fit(X,y)\n",
    "\n",
    "# Check your answer\n",
    "step_3.check()"
   ]
  },
  {
   "cell_type": "code",
   "execution_count": 9,
   "id": "926f422f",
   "metadata": {
    "execution": {
     "iopub.execute_input": "2022-06-30T09:06:29.443087Z",
     "iopub.status.busy": "2022-06-30T09:06:29.442694Z",
     "iopub.status.idle": "2022-06-30T09:06:29.446848Z",
     "shell.execute_reply": "2022-06-30T09:06:29.445828Z"
    },
    "papermill": {
     "duration": 0.014478,
     "end_time": "2022-06-30T09:06:29.448879",
     "exception": false,
     "start_time": "2022-06-30T09:06:29.434401",
     "status": "completed"
    },
    "tags": []
   },
   "outputs": [],
   "source": [
    "# step_3.hint()\n",
    "# step_3.solution()"
   ]
  },
  {
   "cell_type": "markdown",
   "id": "9fece706",
   "metadata": {
    "papermill": {
     "duration": 0.006788,
     "end_time": "2022-06-30T09:06:29.462822",
     "exception": false,
     "start_time": "2022-06-30T09:06:29.456034",
     "status": "completed"
    },
    "tags": []
   },
   "source": [
    "## Step 4: Make Predictions\n",
    "Make predictions with the model's `predict` command using `X` as the data. Save the results to a variable called `predictions`."
   ]
  },
  {
   "cell_type": "code",
   "execution_count": 10,
   "id": "1d02a99a",
   "metadata": {
    "execution": {
     "iopub.execute_input": "2022-06-30T09:06:29.480110Z",
     "iopub.status.busy": "2022-06-30T09:06:29.479304Z",
     "iopub.status.idle": "2022-06-30T09:06:29.492952Z",
     "shell.execute_reply": "2022-06-30T09:06:29.492035Z"
    },
    "papermill": {
     "duration": 0.024551,
     "end_time": "2022-06-30T09:06:29.495052",
     "exception": false,
     "start_time": "2022-06-30T09:06:29.470501",
     "status": "completed"
    },
    "tags": []
   },
   "outputs": [
    {
     "name": "stdout",
     "output_type": "stream",
     "text": [
      "[208500. 181500. 223500. ... 266500. 142125. 147500.]\n"
     ]
    },
    {
     "data": {
      "application/javascript": [
       "parent.postMessage({\"jupyterEvent\": \"custom.exercise_interaction\", \"data\": {\"outcomeType\": 1, \"valueTowardsCompletion\": 0.25, \"interactionType\": 1, \"questionType\": 2, \"questionId\": \"4_MakePredictions\", \"learnToolsVersion\": \"0.3.4\", \"failureMessage\": \"\", \"exceptionClass\": \"\", \"trace\": \"\"}}, \"*\")"
      ],
      "text/plain": [
       "<IPython.core.display.Javascript object>"
      ]
     },
     "metadata": {},
     "output_type": "display_data"
    },
    {
     "data": {
      "text/markdown": [
       "<span style=\"color:#33cc33\">Correct</span>"
      ],
      "text/plain": [
       "Correct"
      ]
     },
     "metadata": {},
     "output_type": "display_data"
    }
   ],
   "source": [
    "predictions = iowa_model.predict(X)\n",
    "print(predictions)\n",
    "\n",
    "# Check your answer\n",
    "step_4.check()"
   ]
  },
  {
   "cell_type": "code",
   "execution_count": 11,
   "id": "76c3e264",
   "metadata": {
    "execution": {
     "iopub.execute_input": "2022-06-30T09:06:29.511616Z",
     "iopub.status.busy": "2022-06-30T09:06:29.510873Z",
     "iopub.status.idle": "2022-06-30T09:06:29.514863Z",
     "shell.execute_reply": "2022-06-30T09:06:29.513824Z"
    },
    "papermill": {
     "duration": 0.014646,
     "end_time": "2022-06-30T09:06:29.516952",
     "exception": false,
     "start_time": "2022-06-30T09:06:29.502306",
     "status": "completed"
    },
    "tags": []
   },
   "outputs": [],
   "source": [
    "# step_4.hint()\n",
    "# step_4.solution()"
   ]
  },
  {
   "cell_type": "markdown",
   "id": "cc6b58fd",
   "metadata": {
    "papermill": {
     "duration": 0.006933,
     "end_time": "2022-06-30T09:06:29.531144",
     "exception": false,
     "start_time": "2022-06-30T09:06:29.524211",
     "status": "completed"
    },
    "tags": []
   },
   "source": [
    "## Think About Your Results\n",
    "\n",
    "Use the `head` method to compare the top few predictions to the actual home values (in `y`) for those same homes. Anything surprising?\n"
   ]
  },
  {
   "cell_type": "code",
   "execution_count": 12,
   "id": "9264b927",
   "metadata": {
    "execution": {
     "iopub.execute_input": "2022-06-30T09:06:29.547865Z",
     "iopub.status.busy": "2022-06-30T09:06:29.547111Z",
     "iopub.status.idle": "2022-06-30T09:06:29.553378Z",
     "shell.execute_reply": "2022-06-30T09:06:29.552334Z"
    },
    "papermill": {
     "duration": 0.017092,
     "end_time": "2022-06-30T09:06:29.555505",
     "exception": false,
     "start_time": "2022-06-30T09:06:29.538413",
     "status": "completed"
    },
    "tags": []
   },
   "outputs": [
    {
     "name": "stdout",
     "output_type": "stream",
     "text": [
      "0    208500\n",
      "1    181500\n",
      "2    223500\n",
      "3    140000\n",
      "4    250000\n",
      "Name: SalePrice, dtype: int64\n",
      "[208500. 181500. 223500. 140000. 250000.]\n"
     ]
    }
   ],
   "source": [
    "# You can write code in this cell\n",
    "print(y.head())\n",
    "print(predictions[:5])"
   ]
  },
  {
   "cell_type": "markdown",
   "id": "cf583b5b",
   "metadata": {
    "papermill": {
     "duration": 0.00712,
     "end_time": "2022-06-30T09:06:29.570111",
     "exception": false,
     "start_time": "2022-06-30T09:06:29.562991",
     "status": "completed"
    },
    "tags": []
   },
   "source": [
    "It's natural to ask how accurate the model's predictions will be and how you can improve that. That will be you're next step.\n",
    "\n",
    "# Keep Going\n",
    "\n",
    "You are ready for **[Model Validation](https://www.kaggle.com/dansbecker/model-validation).**\n"
   ]
  },
  {
   "cell_type": "markdown",
   "id": "49ae6c33",
   "metadata": {
    "papermill": {
     "duration": 0.007107,
     "end_time": "2022-06-30T09:06:29.584788",
     "exception": false,
     "start_time": "2022-06-30T09:06:29.577681",
     "status": "completed"
    },
    "tags": []
   },
   "source": [
    "---\n",
    "\n",
    "\n",
    "\n",
    "\n",
    "*Have questions or comments? Visit the [course discussion forum](https://www.kaggle.com/learn/intro-to-machine-learning/discussion) to chat with other learners.*"
   ]
  }
 ],
 "metadata": {
  "kernelspec": {
   "display_name": "Python 3",
   "language": "python",
   "name": "python3"
  },
  "language_info": {
   "codemirror_mode": {
    "name": "ipython",
    "version": 3
   },
   "file_extension": ".py",
   "mimetype": "text/x-python",
   "name": "python",
   "nbconvert_exporter": "python",
   "pygments_lexer": "ipython3",
   "version": "3.7.12"
  },
  "papermill": {
   "default_parameters": {},
   "duration": 13.101697,
   "end_time": "2022-06-30T09:06:30.313647",
   "environment_variables": {},
   "exception": null,
   "input_path": "__notebook__.ipynb",
   "output_path": "__notebook__.ipynb",
   "parameters": {},
   "start_time": "2022-06-30T09:06:17.211950",
   "version": "2.3.4"
  }
 },
 "nbformat": 4,
 "nbformat_minor": 5
}
