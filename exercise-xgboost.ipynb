{
 "cells": [
  {
   "cell_type": "markdown",
   "id": "f6dde375",
   "metadata": {
    "papermill": {
     "duration": 0.007309,
     "end_time": "2022-06-30T12:12:45.825853",
     "exception": false,
     "start_time": "2022-06-30T12:12:45.818544",
     "status": "completed"
    },
    "tags": []
   },
   "source": [
    "**This notebook is an exercise in the [Intermediate Machine Learning](https://www.kaggle.com/learn/intermediate-machine-learning) course.  You can reference the tutorial at [this link](https://www.kaggle.com/alexisbcook/xgboost).**\n",
    "\n",
    "---\n"
   ]
  },
  {
   "cell_type": "markdown",
   "id": "eaf109d7",
   "metadata": {
    "papermill": {
     "duration": 0.005844,
     "end_time": "2022-06-30T12:12:45.838113",
     "exception": false,
     "start_time": "2022-06-30T12:12:45.832269",
     "status": "completed"
    },
    "tags": []
   },
   "source": [
    "In this exercise, you will use your new knowledge to train a model with **gradient boosting**.\n",
    "\n",
    "# Setup\n",
    "\n",
    "The questions below will give you feedback on your work. Run the following cell to set up the feedback system."
   ]
  },
  {
   "cell_type": "code",
   "execution_count": 1,
   "id": "d68e2922",
   "metadata": {
    "execution": {
     "iopub.execute_input": "2022-06-30T12:12:45.852942Z",
     "iopub.status.busy": "2022-06-30T12:12:45.852200Z",
     "iopub.status.idle": "2022-06-30T12:12:48.414091Z",
     "shell.execute_reply": "2022-06-30T12:12:48.413097Z"
    },
    "papermill": {
     "duration": 2.572734,
     "end_time": "2022-06-30T12:12:48.417111",
     "exception": false,
     "start_time": "2022-06-30T12:12:45.844377",
     "status": "completed"
    },
    "tags": []
   },
   "outputs": [
    {
     "name": "stdout",
     "output_type": "stream",
     "text": [
      "Setup Complete\n"
     ]
    }
   ],
   "source": [
    "# Set up code checking\n",
    "import os\n",
    "if not os.path.exists(\"../input/train.csv\"):\n",
    "    os.symlink(\"../input/home-data-for-ml-course/train.csv\", \"../input/train.csv\")  \n",
    "    os.symlink(\"../input/home-data-for-ml-course/test.csv\", \"../input/test.csv\") \n",
    "from learntools.core import binder\n",
    "binder.bind(globals())\n",
    "from learntools.ml_intermediate.ex6 import *\n",
    "print(\"Setup Complete\")"
   ]
  },
  {
   "cell_type": "markdown",
   "id": "5ea32447",
   "metadata": {
    "papermill": {
     "duration": 0.006027,
     "end_time": "2022-06-30T12:12:48.430841",
     "exception": false,
     "start_time": "2022-06-30T12:12:48.424814",
     "status": "completed"
    },
    "tags": []
   },
   "source": [
    "You will work with the [Housing Prices Competition for Kaggle Learn Users](https://www.kaggle.com/c/home-data-for-ml-course) dataset from the previous exercise. \n",
    "\n",
    "![Ames Housing dataset image](https://i.imgur.com/lTJVG4e.png)\n",
    "\n",
    "Run the next code cell without changes to load the training and validation sets in `X_train`, `X_valid`, `y_train`, and `y_valid`.  The test set is loaded in `X_test`."
   ]
  },
  {
   "cell_type": "code",
   "execution_count": 2,
   "id": "2396c470",
   "metadata": {
    "execution": {
     "iopub.execute_input": "2022-06-30T12:12:48.445576Z",
     "iopub.status.busy": "2022-06-30T12:12:48.445179Z",
     "iopub.status.idle": "2022-06-30T12:12:48.640008Z",
     "shell.execute_reply": "2022-06-30T12:12:48.638770Z"
    },
    "papermill": {
     "duration": 0.205469,
     "end_time": "2022-06-30T12:12:48.642876",
     "exception": false,
     "start_time": "2022-06-30T12:12:48.437407",
     "status": "completed"
    },
    "tags": []
   },
   "outputs": [],
   "source": [
    "import pandas as pd\n",
    "from sklearn.model_selection import train_test_split\n",
    "\n",
    "# Read the data\n",
    "X = pd.read_csv('../input/train.csv', index_col='Id')\n",
    "X_test_full = pd.read_csv('../input/test.csv', index_col='Id')\n",
    "\n",
    "# Remove rows with missing target, separate target from predictors\n",
    "X.dropna(axis=0, subset=['SalePrice'], inplace=True)\n",
    "y = X.SalePrice              \n",
    "X.drop(['SalePrice'], axis=1, inplace=True)\n",
    "\n",
    "# Break off validation set from training data\n",
    "X_train_full, X_valid_full, y_train, y_valid = train_test_split(X, y, train_size=0.8, test_size=0.2,\n",
    "                                                                random_state=0)\n",
    "\n",
    "# \"Cardinality\" means the number of unique values in a column\n",
    "# Select categorical columns with relatively low cardinality (convenient but arbitrary)\n",
    "low_cardinality_cols = [cname for cname in X_train_full.columns if X_train_full[cname].nunique() < 10 and \n",
    "                        X_train_full[cname].dtype == \"object\"]\n",
    "\n",
    "# Select numeric columns\n",
    "numeric_cols = [cname for cname in X_train_full.columns if X_train_full[cname].dtype in ['int64', 'float64']]\n",
    "\n",
    "# Keep selected columns only\n",
    "my_cols = low_cardinality_cols + numeric_cols\n",
    "X_train = X_train_full[my_cols].copy()\n",
    "X_valid = X_valid_full[my_cols].copy()\n",
    "X_test = X_test_full[my_cols].copy()\n",
    "\n",
    "# One-hot encode the data (to shorten the code, we use pandas)\n",
    "X_train = pd.get_dummies(X_train)\n",
    "X_valid = pd.get_dummies(X_valid)\n",
    "X_test = pd.get_dummies(X_test)\n",
    "X_train, X_valid = X_train.align(X_valid, join='left', axis=1)\n",
    "X_train, X_test = X_train.align(X_test, join='left', axis=1)"
   ]
  },
  {
   "cell_type": "markdown",
   "id": "60b0b871",
   "metadata": {
    "papermill": {
     "duration": 0.005663,
     "end_time": "2022-06-30T12:12:48.654630",
     "exception": false,
     "start_time": "2022-06-30T12:12:48.648967",
     "status": "completed"
    },
    "tags": []
   },
   "source": [
    "# Step 1: Build model\n",
    "\n",
    "### Part A\n",
    "\n",
    "In this step, you'll build and train your first model with gradient boosting.\n",
    "\n",
    "- Begin by setting `my_model_1` to an XGBoost model.  Use the [XGBRegressor](https://xgboost.readthedocs.io/en/latest/python/python_api.html#xgboost.XGBRegressor) class, and set the random seed to 0 (`random_state=0`).  **Leave all other parameters as default.**\n",
    "- Then, fit the model to the training data in `X_train` and `y_train`."
   ]
  },
  {
   "cell_type": "code",
   "execution_count": 3,
   "id": "a29b16a6",
   "metadata": {
    "execution": {
     "iopub.execute_input": "2022-06-30T12:12:48.667913Z",
     "iopub.status.busy": "2022-06-30T12:12:48.667515Z",
     "iopub.status.idle": "2022-06-30T12:12:49.592409Z",
     "shell.execute_reply": "2022-06-30T12:12:49.591404Z"
    },
    "papermill": {
     "duration": 0.93441,
     "end_time": "2022-06-30T12:12:49.594831",
     "exception": false,
     "start_time": "2022-06-30T12:12:48.660421",
     "status": "completed"
    },
    "tags": []
   },
   "outputs": [
    {
     "data": {
      "application/javascript": [
       "parent.postMessage({\"jupyterEvent\": \"custom.exercise_interaction\", \"data\": {\"outcomeType\": 1, \"valueTowardsCompletion\": 0.5, \"interactionType\": 1, \"questionType\": 2, \"questionId\": \"1.1_Model1A\", \"learnToolsVersion\": \"0.3.4\", \"failureMessage\": \"\", \"exceptionClass\": \"\", \"trace\": \"\"}}, \"*\")"
      ],
      "text/plain": [
       "<IPython.core.display.Javascript object>"
      ]
     },
     "metadata": {},
     "output_type": "display_data"
    },
    {
     "data": {
      "text/markdown": [
       "<span style=\"color:#33cc33\">Correct</span>"
      ],
      "text/plain": [
       "Correct"
      ]
     },
     "metadata": {},
     "output_type": "display_data"
    }
   ],
   "source": [
    "from xgboost import XGBRegressor\n",
    "\n",
    "# Define the model\n",
    "my_model_1 =  XGBRegressor() # Your code here\n",
    "\n",
    "# Fit the model\n",
    "my_model_1.fit(X_train,y_train) # Your code here\n",
    "\n",
    "# Check your answer\n",
    "step_1.a.check()"
   ]
  },
  {
   "cell_type": "code",
   "execution_count": 4,
   "id": "f97b8748",
   "metadata": {
    "execution": {
     "iopub.execute_input": "2022-06-30T12:12:49.609458Z",
     "iopub.status.busy": "2022-06-30T12:12:49.609047Z",
     "iopub.status.idle": "2022-06-30T12:12:49.613721Z",
     "shell.execute_reply": "2022-06-30T12:12:49.612567Z"
    },
    "papermill": {
     "duration": 0.014906,
     "end_time": "2022-06-30T12:12:49.615988",
     "exception": false,
     "start_time": "2022-06-30T12:12:49.601082",
     "status": "completed"
    },
    "tags": []
   },
   "outputs": [],
   "source": [
    "# Lines below will give you a hint or solution code\n",
    "#step_1.a.hint()\n",
    "#step_1.a.solution()"
   ]
  },
  {
   "cell_type": "markdown",
   "id": "6d29cd68",
   "metadata": {
    "papermill": {
     "duration": 0.006384,
     "end_time": "2022-06-30T12:12:49.628550",
     "exception": false,
     "start_time": "2022-06-30T12:12:49.622166",
     "status": "completed"
    },
    "tags": []
   },
   "source": [
    "### Part B\n",
    "\n",
    "Set `predictions_1` to the model's predictions for the validation data.  Recall that the validation features are stored in `X_valid`."
   ]
  },
  {
   "cell_type": "code",
   "execution_count": 5,
   "id": "8d5795d8",
   "metadata": {
    "execution": {
     "iopub.execute_input": "2022-06-30T12:12:49.643800Z",
     "iopub.status.busy": "2022-06-30T12:12:49.642709Z",
     "iopub.status.idle": "2022-06-30T12:12:49.667642Z",
     "shell.execute_reply": "2022-06-30T12:12:49.666732Z"
    },
    "papermill": {
     "duration": 0.035261,
     "end_time": "2022-06-30T12:12:49.670281",
     "exception": false,
     "start_time": "2022-06-30T12:12:49.635020",
     "status": "completed"
    },
    "tags": []
   },
   "outputs": [
    {
     "data": {
      "application/javascript": [
       "parent.postMessage({\"jupyterEvent\": \"custom.exercise_interaction\", \"data\": {\"outcomeType\": 1, \"valueTowardsCompletion\": 0.5, \"interactionType\": 1, \"questionType\": 2, \"questionId\": \"1.2_Model1B\", \"learnToolsVersion\": \"0.3.4\", \"failureMessage\": \"\", \"exceptionClass\": \"\", \"trace\": \"\"}}, \"*\")"
      ],
      "text/plain": [
       "<IPython.core.display.Javascript object>"
      ]
     },
     "metadata": {},
     "output_type": "display_data"
    },
    {
     "data": {
      "text/markdown": [
       "<span style=\"color:#33cc33\">Correct</span>"
      ],
      "text/plain": [
       "Correct"
      ]
     },
     "metadata": {},
     "output_type": "display_data"
    }
   ],
   "source": [
    "from sklearn.metrics import mean_absolute_error\n",
    "\n",
    "# Get predictions\n",
    "predictions_1 = my_model_1.predict(X_valid) # Your code here\n",
    "\n",
    "# Check your answer\n",
    "step_1.b.check()"
   ]
  },
  {
   "cell_type": "code",
   "execution_count": 6,
   "id": "eb58b14d",
   "metadata": {
    "execution": {
     "iopub.execute_input": "2022-06-30T12:12:49.685614Z",
     "iopub.status.busy": "2022-06-30T12:12:49.685180Z",
     "iopub.status.idle": "2022-06-30T12:12:49.689764Z",
     "shell.execute_reply": "2022-06-30T12:12:49.688648Z"
    },
    "papermill": {
     "duration": 0.014561,
     "end_time": "2022-06-30T12:12:49.692254",
     "exception": false,
     "start_time": "2022-06-30T12:12:49.677693",
     "status": "completed"
    },
    "tags": []
   },
   "outputs": [],
   "source": [
    "# Lines below will give you a hint or solution code\n",
    "#step_1.b.hint()\n",
    "#step_1.b.solution()"
   ]
  },
  {
   "cell_type": "markdown",
   "id": "4738f878",
   "metadata": {
    "papermill": {
     "duration": 0.006121,
     "end_time": "2022-06-30T12:12:49.704944",
     "exception": false,
     "start_time": "2022-06-30T12:12:49.698823",
     "status": "completed"
    },
    "tags": []
   },
   "source": [
    "### Part C\n",
    "\n",
    "Finally, use the `mean_absolute_error()` function to calculate the mean absolute error (MAE) corresponding to the predictions for the validation set.  Recall that the labels for the validation data are stored in `y_valid`."
   ]
  },
  {
   "cell_type": "code",
   "execution_count": 7,
   "id": "4c2ef472",
   "metadata": {
    "execution": {
     "iopub.execute_input": "2022-06-30T12:12:49.720601Z",
     "iopub.status.busy": "2022-06-30T12:12:49.719591Z",
     "iopub.status.idle": "2022-06-30T12:12:49.730679Z",
     "shell.execute_reply": "2022-06-30T12:12:49.729505Z"
    },
    "papermill": {
     "duration": 0.021077,
     "end_time": "2022-06-30T12:12:49.733031",
     "exception": false,
     "start_time": "2022-06-30T12:12:49.711954",
     "status": "completed"
    },
    "tags": []
   },
   "outputs": [
    {
     "name": "stdout",
     "output_type": "stream",
     "text": [
      "Mean Absolute Error: 17662.736729452055\n"
     ]
    },
    {
     "data": {
      "application/javascript": [
       "parent.postMessage({\"jupyterEvent\": \"custom.exercise_interaction\", \"data\": {\"outcomeType\": 1, \"valueTowardsCompletion\": 0.5, \"interactionType\": 1, \"questionType\": 2, \"questionId\": \"1.3_Model1C\", \"learnToolsVersion\": \"0.3.4\", \"failureMessage\": \"\", \"exceptionClass\": \"\", \"trace\": \"\"}}, \"*\")"
      ],
      "text/plain": [
       "<IPython.core.display.Javascript object>"
      ]
     },
     "metadata": {},
     "output_type": "display_data"
    },
    {
     "data": {
      "text/markdown": [
       "<span style=\"color:#33cc33\">Correct</span>"
      ],
      "text/plain": [
       "Correct"
      ]
     },
     "metadata": {},
     "output_type": "display_data"
    }
   ],
   "source": [
    "# Calculate MAE\n",
    "mae_1 = mean_absolute_error(y_valid,predictions_1) # Your code here\n",
    "\n",
    "# Uncomment to print MAE\n",
    "print(\"Mean Absolute Error:\" , mae_1)\n",
    "\n",
    "# Check your answer\n",
    "step_1.c.check()"
   ]
  },
  {
   "cell_type": "code",
   "execution_count": 8,
   "id": "ea3fb5a3",
   "metadata": {
    "execution": {
     "iopub.execute_input": "2022-06-30T12:12:49.748690Z",
     "iopub.status.busy": "2022-06-30T12:12:49.748336Z",
     "iopub.status.idle": "2022-06-30T12:12:49.752942Z",
     "shell.execute_reply": "2022-06-30T12:12:49.751749Z"
    },
    "papermill": {
     "duration": 0.015774,
     "end_time": "2022-06-30T12:12:49.755609",
     "exception": false,
     "start_time": "2022-06-30T12:12:49.739835",
     "status": "completed"
    },
    "tags": []
   },
   "outputs": [],
   "source": [
    "# Lines below will give you a hint or solution code\n",
    "#step_1.c.hint()\n",
    "#step_1.c.solution()"
   ]
  },
  {
   "cell_type": "markdown",
   "id": "c6941783",
   "metadata": {
    "papermill": {
     "duration": 0.00647,
     "end_time": "2022-06-30T12:12:49.768984",
     "exception": false,
     "start_time": "2022-06-30T12:12:49.762514",
     "status": "completed"
    },
    "tags": []
   },
   "source": [
    "# Step 2: Improve the model\n",
    "\n",
    "Now that you've trained a default model as baseline, it's time to tinker with the parameters, to see if you can get better performance!\n",
    "- Begin by setting `my_model_2` to an XGBoost model, using the [XGBRegressor](https://xgboost.readthedocs.io/en/latest/python/python_api.html#xgboost.XGBRegressor) class.  Use what you learned in the previous tutorial to figure out how to change the default parameters (like `n_estimators` and `learning_rate`) to get better results.\n",
    "- Then, fit the model to the training data in `X_train` and `y_train`.\n",
    "- Set `predictions_2` to the model's predictions for the validation data.  Recall that the validation features are stored in `X_valid`.\n",
    "- Finally, use the `mean_absolute_error()` function to calculate the mean absolute error (MAE) corresponding to the predictions on the validation set.  Recall that the labels for the validation data are stored in `y_valid`.\n",
    "\n",
    "In order for this step to be marked correct, your model in `my_model_2` must attain lower MAE than the model in `my_model_1`. "
   ]
  },
  {
   "cell_type": "code",
   "execution_count": 9,
   "id": "6a1e0140",
   "metadata": {
    "execution": {
     "iopub.execute_input": "2022-06-30T12:12:49.784067Z",
     "iopub.status.busy": "2022-06-30T12:12:49.783705Z",
     "iopub.status.idle": "2022-06-30T12:12:50.715819Z",
     "shell.execute_reply": "2022-06-30T12:12:50.714898Z"
    },
    "papermill": {
     "duration": 0.942729,
     "end_time": "2022-06-30T12:12:50.718341",
     "exception": false,
     "start_time": "2022-06-30T12:12:49.775612",
     "status": "completed"
    },
    "tags": []
   },
   "outputs": [
    {
     "data": {
      "application/javascript": [
       "parent.postMessage({\"jupyterEvent\": \"custom.exercise_interaction\", \"data\": {\"outcomeType\": 1, \"valueTowardsCompletion\": 0.5, \"interactionType\": 1, \"questionType\": 2, \"questionId\": \"2_Model2\", \"learnToolsVersion\": \"0.3.4\", \"failureMessage\": \"\", \"exceptionClass\": \"\", \"trace\": \"\"}}, \"*\")"
      ],
      "text/plain": [
       "<IPython.core.display.Javascript object>"
      ]
     },
     "metadata": {},
     "output_type": "display_data"
    },
    {
     "data": {
      "text/markdown": [
       "<span style=\"color:#33cc33\">Correct</span>"
      ],
      "text/plain": [
       "Correct"
      ]
     },
     "metadata": {},
     "output_type": "display_data"
    }
   ],
   "source": [
    "# Define the model\n",
    "my_model_2 = XGBRegressor(n_estimators=100,learning_rate=0.10) # Your code here\n",
    "\n",
    "# Fit the model\n",
    "my_model_2.fit(X_train,y_train) # Your code here\n",
    "\n",
    "# Get predictions\n",
    "predictions_2 = my_model_2.predict(X_valid) # Your code here\n",
    "\n",
    "# Calculate MAE\n",
    "mae_2 = mean_absolute_error(y_valid,predictions_2) # Your code here\n",
    "\n",
    "# Uncomment to print MAE\n",
    "# print(\"Mean Absolute Error:\" , mae_2)\n",
    "\n",
    "# Check your answer\n",
    "step_2.check()"
   ]
  },
  {
   "cell_type": "code",
   "execution_count": 10,
   "id": "82a2973c",
   "metadata": {
    "execution": {
     "iopub.execute_input": "2022-06-30T12:12:50.735344Z",
     "iopub.status.busy": "2022-06-30T12:12:50.734945Z",
     "iopub.status.idle": "2022-06-30T12:12:50.738987Z",
     "shell.execute_reply": "2022-06-30T12:12:50.738137Z"
    },
    "papermill": {
     "duration": 0.014479,
     "end_time": "2022-06-30T12:12:50.741075",
     "exception": false,
     "start_time": "2022-06-30T12:12:50.726596",
     "status": "completed"
    },
    "tags": []
   },
   "outputs": [],
   "source": [
    "# Lines below will give you a hint or solution code\n",
    "#step_2.hint()\n",
    "#step_2.solution()"
   ]
  },
  {
   "cell_type": "markdown",
   "id": "d810edac",
   "metadata": {
    "papermill": {
     "duration": 0.006994,
     "end_time": "2022-06-30T12:12:50.755845",
     "exception": false,
     "start_time": "2022-06-30T12:12:50.748851",
     "status": "completed"
    },
    "tags": []
   },
   "source": [
    "mean_absolute_error()# Step 3: Break the model\n",
    "\n",
    "In this step, you will create a model that performs worse than the original model in Step 1.  This will help you to develop your intuition for how to set parameters.  You might even find that you accidentally get better performance, which is ultimately a nice problem to have and a valuable learning experience!\n",
    "- Begin by setting `my_model_3` to an XGBoost model, using the [XGBRegressor](https://xgboost.readthedocs.io/en/latest/python/python_api.html#xgboost.XGBRegressor) class.  Use what you learned in the previous tutorial to figure out how to change the default parameters (like `n_estimators` and `learning_rate`) to design a model to get high MAE.\n",
    "- Then, fit the model to the training data in `X_train` and `y_train`.\n",
    "- Set `predictions_3` to the model's predictions for the validation data.  Recall that the validation features are stored in `X_valid`.\n",
    "- Finally, use the `mean_absolute_error()` function to calculate the mean absolute error (MAE) corresponding to the predictions on the validation set.  Recall that the labels for the validation data are stored in `y_valid`.\n",
    "\n",
    "In order for this step to be marked correct, your model in `my_model_3` must attain higher MAE than the model in `my_model_1`. "
   ]
  },
  {
   "cell_type": "code",
   "execution_count": 11,
   "id": "ed6c5093",
   "metadata": {
    "execution": {
     "iopub.execute_input": "2022-06-30T12:12:50.772083Z",
     "iopub.status.busy": "2022-06-30T12:12:50.771478Z",
     "iopub.status.idle": "2022-06-30T12:12:50.835792Z",
     "shell.execute_reply": "2022-06-30T12:12:50.834820Z"
    },
    "papermill": {
     "duration": 0.07539,
     "end_time": "2022-06-30T12:12:50.838262",
     "exception": false,
     "start_time": "2022-06-30T12:12:50.762872",
     "status": "completed"
    },
    "tags": []
   },
   "outputs": [
    {
     "name": "stdout",
     "output_type": "stream",
     "text": [
      "Mean Absolute Error: 127895.0828807256\n"
     ]
    },
    {
     "data": {
      "application/javascript": [
       "parent.postMessage({\"jupyterEvent\": \"custom.exercise_interaction\", \"data\": {\"outcomeType\": 1, \"valueTowardsCompletion\": 0.5, \"interactionType\": 1, \"questionType\": 2, \"questionId\": \"3_Model3\", \"learnToolsVersion\": \"0.3.4\", \"failureMessage\": \"\", \"exceptionClass\": \"\", \"trace\": \"\"}}, \"*\")"
      ],
      "text/plain": [
       "<IPython.core.display.Javascript object>"
      ]
     },
     "metadata": {},
     "output_type": "display_data"
    },
    {
     "data": {
      "text/markdown": [
       "<span style=\"color:#33cc33\">Correct</span>"
      ],
      "text/plain": [
       "Correct"
      ]
     },
     "metadata": {},
     "output_type": "display_data"
    }
   ],
   "source": [
    "#Define the model\n",
    "my_model_3 = XGBRegressor(n_estimators=1)\n",
    "\n",
    "# Fit the model\n",
    "my_model_3.fit(X_train, y_train)\n",
    "\n",
    "# Get predictions\n",
    "predictions_3 = my_model_3.predict(X_valid)\n",
    "\n",
    "# Calculate MAE\n",
    "mae_3 = mean_absolute_error(predictions_3, y_valid)\n",
    "print(\"Mean Absolute Error:\" , mae_3)\n",
    "\n",
    "# Check your answer\n",
    "step_3.check()"
   ]
  },
  {
   "cell_type": "code",
   "execution_count": 12,
   "id": "afe683e7",
   "metadata": {
    "execution": {
     "iopub.execute_input": "2022-06-30T12:12:50.857280Z",
     "iopub.status.busy": "2022-06-30T12:12:50.856352Z",
     "iopub.status.idle": "2022-06-30T12:12:50.864042Z",
     "shell.execute_reply": "2022-06-30T12:12:50.863298Z"
    },
    "papermill": {
     "duration": 0.01907,
     "end_time": "2022-06-30T12:12:50.866061",
     "exception": false,
     "start_time": "2022-06-30T12:12:50.846991",
     "status": "completed"
    },
    "tags": []
   },
   "outputs": [
    {
     "data": {
      "application/javascript": [
       "parent.postMessage({\"jupyterEvent\": \"custom.exercise_interaction\", \"data\": {\"interactionType\": 3, \"questionType\": 2, \"questionId\": \"3_Model3\", \"learnToolsVersion\": \"0.3.4\", \"valueTowardsCompletion\": 0.0, \"failureMessage\": \"\", \"exceptionClass\": \"\", \"trace\": \"\", \"outcomeType\": 4}}, \"*\")"
      ],
      "text/plain": [
       "<IPython.core.display.Javascript object>"
      ]
     },
     "metadata": {},
     "output_type": "display_data"
    },
    {
     "data": {
      "text/markdown": [
       "<span style=\"color:#33cc99\">Solution:</span> \n",
       "```python\n",
       "# Define the model\n",
       "my_model_3 = XGBRegressor(n_estimators=1)\n",
       "\n",
       "# Fit the model\n",
       "my_model_3.fit(X_train, y_train)\n",
       "\n",
       "# Get predictions\n",
       "predictions_3 = my_model_3.predict(X_valid)\n",
       "\n",
       "# Calculate MAE\n",
       "mae_3 = mean_absolute_error(predictions_3, y_valid)\n",
       "print(\"Mean Absolute Error:\" , mae_3)\n",
       "\n",
       "```"
      ],
      "text/plain": [
       "Solution: \n",
       "```python\n",
       "# Define the model\n",
       "my_model_3 = XGBRegressor(n_estimators=1)\n",
       "\n",
       "# Fit the model\n",
       "my_model_3.fit(X_train, y_train)\n",
       "\n",
       "# Get predictions\n",
       "predictions_3 = my_model_3.predict(X_valid)\n",
       "\n",
       "# Calculate MAE\n",
       "mae_3 = mean_absolute_error(predictions_3, y_valid)\n",
       "print(\"Mean Absolute Error:\" , mae_3)\n",
       "\n",
       "```"
      ]
     },
     "metadata": {},
     "output_type": "display_data"
    }
   ],
   "source": [
    "# Lines below will give you a hint or solution code\n",
    "#step_3.hint()\n",
    "step_3.solution()"
   ]
  },
  {
   "cell_type": "markdown",
   "id": "185fcb4c",
   "metadata": {
    "papermill": {
     "duration": 0.007927,
     "end_time": "2022-06-30T12:12:50.881737",
     "exception": false,
     "start_time": "2022-06-30T12:12:50.873810",
     "status": "completed"
    },
    "tags": []
   },
   "source": [
    "# Keep going\n",
    "\n",
    "Continue to learn about **[data leakage](https://www.kaggle.com/alexisbcook/data-leakage)**.  This is an important issue for a data scientist to understand, and it has the potential to ruin your models in subtle and dangerous ways!"
   ]
  },
  {
   "cell_type": "markdown",
   "id": "14384bc3",
   "metadata": {
    "papermill": {
     "duration": 0.007345,
     "end_time": "2022-06-30T12:12:50.896787",
     "exception": false,
     "start_time": "2022-06-30T12:12:50.889442",
     "status": "completed"
    },
    "tags": []
   },
   "source": [
    "---\n",
    "\n",
    "\n",
    "\n",
    "\n",
    "*Have questions or comments? Visit the [course discussion forum](https://www.kaggle.com/learn/intermediate-machine-learning/discussion) to chat with other learners.*"
   ]
  }
 ],
 "metadata": {
  "kernelspec": {
   "display_name": "Python 3",
   "language": "python",
   "name": "python3"
  },
  "language_info": {
   "codemirror_mode": {
    "name": "ipython",
    "version": 3
   },
   "file_extension": ".py",
   "mimetype": "text/x-python",
   "name": "python",
   "nbconvert_exporter": "python",
   "pygments_lexer": "ipython3",
   "version": "3.7.12"
  },
  "papermill": {
   "default_parameters": {},
   "duration": 16.385074,
   "end_time": "2022-06-30T12:12:51.626347",
   "environment_variables": {},
   "exception": null,
   "input_path": "__notebook__.ipynb",
   "output_path": "__notebook__.ipynb",
   "parameters": {},
   "start_time": "2022-06-30T12:12:35.241273",
   "version": "2.3.4"
  }
 },
 "nbformat": 4,
 "nbformat_minor": 5
}
